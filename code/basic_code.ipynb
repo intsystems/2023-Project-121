{
  "cells": [
    {
      "cell_type": "markdown",
      "source": [
        "### Базовый код"
      ],
      "metadata": {
        "id": "tV8jPx2je0mr"
      },
      "id": "tV8jPx2je0mr"
    },
    {
      "cell_type": "code",
      "source": [
        "import pandas as pd\n",
        "import json\n",
        "import numpy as np\n",
        "import matplotlib.pyplot as plt\n",
        "import scipy.stats as sps\n",
        "import seaborn as sns\n",
        "from tqdm import tqdm\n",
        "import time\n",
        "from sklearn.preprocessing import StandardScaler\n",
        "from sklearn.preprocessing import MinMaxScaler\n",
        "from collections import defaultdict\n",
        "import torch\n",
        "from torch import nn\n",
        "from torch.utils.data import Dataset, DataLoader\n",
        "from torch import optim\n",
        "from torch.optim import lr_scheduler\n",
        "from IPython.display import clear_output\n",
        "from sklearn.metrics import mean_squared_error\n",
        "\n",
        "import warnings\n",
        "warnings.filterwarnings(\"ignore\")\n",
        "\n",
        "sns.set(style='darkgrid', font_scale=1.3, palette='Set2')\n",
        "\n",
        "%matplotlib inline"
      ],
      "metadata": {
        "id": "Ysg5PEVfexEe"
      },
      "id": "Ysg5PEVfexEe",
      "execution_count": 1,
      "outputs": []
    },
    {
      "cell_type": "code",
      "source": [
        "device = f'cuda' if torch.cuda.is_available() else 'cpu'\n",
        "device"
      ],
      "metadata": {
        "colab": {
          "base_uri": "https://localhost:8080/",
          "height": 35
        },
        "id": "6z2KmsVBe-sg",
        "outputId": "55954d99-9e1a-415b-a023-2a14a0eea9e5"
      },
      "id": "6z2KmsVBe-sg",
      "execution_count": 2,
      "outputs": [
        {
          "output_type": "execute_result",
          "data": {
            "text/plain": [
              "'cuda'"
            ],
            "application/vnd.google.colaboratory.intrinsic+json": {
              "type": "string"
            }
          },
          "metadata": {},
          "execution_count": 2
        }
      ]
    },
    {
      "cell_type": "markdown",
      "source": [
        "В базовом коде не будем учитывать пространственные зависимости между данными."
      ],
      "metadata": {
        "id": "z5GUqD6ZfD05"
      },
      "id": "z5GUqD6ZfD05"
    },
    {
      "cell_type": "code",
      "source": [
        "with open('data.json') as file:\n",
        "    data = json.load(file)"
      ],
      "metadata": {
        "id": "SN-aoBOBfA1A"
      },
      "id": "SN-aoBOBfA1A",
      "execution_count": 3,
      "outputs": []
    },
    {
      "cell_type": "code",
      "source": [
        "data_list = []\n",
        "for key in data:\n",
        "    data_list += data[key]['data']\n",
        "    \n",
        "df = pd.DataFrame(data_list)\n",
        "df['date'] = pd.to_datetime(df['date'])\n",
        "df.head()"
      ],
      "metadata": {
        "colab": {
          "base_uri": "https://localhost:8080/",
          "height": 250
        },
        "id": "gmXawR45fF4E",
        "outputId": "fdc14290-6646-4f49-d738-a191e342eecf"
      },
      "id": "gmXawR45fF4E",
      "execution_count": 4,
      "outputs": [
        {
          "output_type": "execute_result",
          "data": {
            "text/plain": [
              "   postId                      date           version  temperature  pressure  \\\n",
              "0     291 2022-01-01 00:00:00+00:00  1640995307000432    -4.046667  732.1188   \n",
              "1     291 2022-01-01 01:00:00+00:00  1640998966000214    -3.731833  731.7606   \n",
              "2     291 2022-01-01 02:00:00+00:00  1641002400000863    -3.322333  731.4838   \n",
              "3     291 2022-01-01 03:00:00+00:00  1641006021000796    -3.049667  731.3568   \n",
              "4     291 2022-01-01 04:00:00+00:00  1641009643000509    -2.973559  731.2467   \n",
              "\n",
              "   humidity        pm2       pm10  \\\n",
              "0     100.0  42.566666  58.050000   \n",
              "1     100.0  29.016666  41.716667   \n",
              "2     100.0  19.283333  26.583334   \n",
              "3     100.0  16.183332  22.033333   \n",
              "4     100.0  17.016949  23.576271   \n",
              "\n",
              "                                                 aqi  co  no2  so2  o3  h2s  \n",
              "0  {'cityairAqi': {}, 'instantAqi': {}, 'epaAqi':... NaN  NaN  NaN NaN  NaN  \n",
              "1  {'cityairAqi': {}, 'instantAqi': {}, 'epaAqi':... NaN  NaN  NaN NaN  NaN  \n",
              "2  {'cityairAqi': {}, 'instantAqi': {}, 'epaAqi':... NaN  NaN  NaN NaN  NaN  \n",
              "3  {'cityairAqi': {}, 'instantAqi': {}, 'epaAqi':... NaN  NaN  NaN NaN  NaN  \n",
              "4  {'cityairAqi': {}, 'instantAqi': {}, 'epaAqi':... NaN  NaN  NaN NaN  NaN  "
            ],
            "text/html": [
              "\n",
              "  <div id=\"df-9826f3b1-a2f1-4f72-8bab-5d4ea2af6f6f\">\n",
              "    <div class=\"colab-df-container\">\n",
              "      <div>\n",
              "<style scoped>\n",
              "    .dataframe tbody tr th:only-of-type {\n",
              "        vertical-align: middle;\n",
              "    }\n",
              "\n",
              "    .dataframe tbody tr th {\n",
              "        vertical-align: top;\n",
              "    }\n",
              "\n",
              "    .dataframe thead th {\n",
              "        text-align: right;\n",
              "    }\n",
              "</style>\n",
              "<table border=\"1\" class=\"dataframe\">\n",
              "  <thead>\n",
              "    <tr style=\"text-align: right;\">\n",
              "      <th></th>\n",
              "      <th>postId</th>\n",
              "      <th>date</th>\n",
              "      <th>version</th>\n",
              "      <th>temperature</th>\n",
              "      <th>pressure</th>\n",
              "      <th>humidity</th>\n",
              "      <th>pm2</th>\n",
              "      <th>pm10</th>\n",
              "      <th>aqi</th>\n",
              "      <th>co</th>\n",
              "      <th>no2</th>\n",
              "      <th>so2</th>\n",
              "      <th>o3</th>\n",
              "      <th>h2s</th>\n",
              "    </tr>\n",
              "  </thead>\n",
              "  <tbody>\n",
              "    <tr>\n",
              "      <th>0</th>\n",
              "      <td>291</td>\n",
              "      <td>2022-01-01 00:00:00+00:00</td>\n",
              "      <td>1640995307000432</td>\n",
              "      <td>-4.046667</td>\n",
              "      <td>732.1188</td>\n",
              "      <td>100.0</td>\n",
              "      <td>42.566666</td>\n",
              "      <td>58.050000</td>\n",
              "      <td>{'cityairAqi': {}, 'instantAqi': {}, 'epaAqi':...</td>\n",
              "      <td>NaN</td>\n",
              "      <td>NaN</td>\n",
              "      <td>NaN</td>\n",
              "      <td>NaN</td>\n",
              "      <td>NaN</td>\n",
              "    </tr>\n",
              "    <tr>\n",
              "      <th>1</th>\n",
              "      <td>291</td>\n",
              "      <td>2022-01-01 01:00:00+00:00</td>\n",
              "      <td>1640998966000214</td>\n",
              "      <td>-3.731833</td>\n",
              "      <td>731.7606</td>\n",
              "      <td>100.0</td>\n",
              "      <td>29.016666</td>\n",
              "      <td>41.716667</td>\n",
              "      <td>{'cityairAqi': {}, 'instantAqi': {}, 'epaAqi':...</td>\n",
              "      <td>NaN</td>\n",
              "      <td>NaN</td>\n",
              "      <td>NaN</td>\n",
              "      <td>NaN</td>\n",
              "      <td>NaN</td>\n",
              "    </tr>\n",
              "    <tr>\n",
              "      <th>2</th>\n",
              "      <td>291</td>\n",
              "      <td>2022-01-01 02:00:00+00:00</td>\n",
              "      <td>1641002400000863</td>\n",
              "      <td>-3.322333</td>\n",
              "      <td>731.4838</td>\n",
              "      <td>100.0</td>\n",
              "      <td>19.283333</td>\n",
              "      <td>26.583334</td>\n",
              "      <td>{'cityairAqi': {}, 'instantAqi': {}, 'epaAqi':...</td>\n",
              "      <td>NaN</td>\n",
              "      <td>NaN</td>\n",
              "      <td>NaN</td>\n",
              "      <td>NaN</td>\n",
              "      <td>NaN</td>\n",
              "    </tr>\n",
              "    <tr>\n",
              "      <th>3</th>\n",
              "      <td>291</td>\n",
              "      <td>2022-01-01 03:00:00+00:00</td>\n",
              "      <td>1641006021000796</td>\n",
              "      <td>-3.049667</td>\n",
              "      <td>731.3568</td>\n",
              "      <td>100.0</td>\n",
              "      <td>16.183332</td>\n",
              "      <td>22.033333</td>\n",
              "      <td>{'cityairAqi': {}, 'instantAqi': {}, 'epaAqi':...</td>\n",
              "      <td>NaN</td>\n",
              "      <td>NaN</td>\n",
              "      <td>NaN</td>\n",
              "      <td>NaN</td>\n",
              "      <td>NaN</td>\n",
              "    </tr>\n",
              "    <tr>\n",
              "      <th>4</th>\n",
              "      <td>291</td>\n",
              "      <td>2022-01-01 04:00:00+00:00</td>\n",
              "      <td>1641009643000509</td>\n",
              "      <td>-2.973559</td>\n",
              "      <td>731.2467</td>\n",
              "      <td>100.0</td>\n",
              "      <td>17.016949</td>\n",
              "      <td>23.576271</td>\n",
              "      <td>{'cityairAqi': {}, 'instantAqi': {}, 'epaAqi':...</td>\n",
              "      <td>NaN</td>\n",
              "      <td>NaN</td>\n",
              "      <td>NaN</td>\n",
              "      <td>NaN</td>\n",
              "      <td>NaN</td>\n",
              "    </tr>\n",
              "  </tbody>\n",
              "</table>\n",
              "</div>\n",
              "      <button class=\"colab-df-convert\" onclick=\"convertToInteractive('df-9826f3b1-a2f1-4f72-8bab-5d4ea2af6f6f')\"\n",
              "              title=\"Convert this dataframe to an interactive table.\"\n",
              "              style=\"display:none;\">\n",
              "        \n",
              "  <svg xmlns=\"http://www.w3.org/2000/svg\" height=\"24px\"viewBox=\"0 0 24 24\"\n",
              "       width=\"24px\">\n",
              "    <path d=\"M0 0h24v24H0V0z\" fill=\"none\"/>\n",
              "    <path d=\"M18.56 5.44l.94 2.06.94-2.06 2.06-.94-2.06-.94-.94-2.06-.94 2.06-2.06.94zm-11 1L8.5 8.5l.94-2.06 2.06-.94-2.06-.94L8.5 2.5l-.94 2.06-2.06.94zm10 10l.94 2.06.94-2.06 2.06-.94-2.06-.94-.94-2.06-.94 2.06-2.06.94z\"/><path d=\"M17.41 7.96l-1.37-1.37c-.4-.4-.92-.59-1.43-.59-.52 0-1.04.2-1.43.59L10.3 9.45l-7.72 7.72c-.78.78-.78 2.05 0 2.83L4 21.41c.39.39.9.59 1.41.59.51 0 1.02-.2 1.41-.59l7.78-7.78 2.81-2.81c.8-.78.8-2.07 0-2.86zM5.41 20L4 18.59l7.72-7.72 1.47 1.35L5.41 20z\"/>\n",
              "  </svg>\n",
              "      </button>\n",
              "      \n",
              "  <style>\n",
              "    .colab-df-container {\n",
              "      display:flex;\n",
              "      flex-wrap:wrap;\n",
              "      gap: 12px;\n",
              "    }\n",
              "\n",
              "    .colab-df-convert {\n",
              "      background-color: #E8F0FE;\n",
              "      border: none;\n",
              "      border-radius: 50%;\n",
              "      cursor: pointer;\n",
              "      display: none;\n",
              "      fill: #1967D2;\n",
              "      height: 32px;\n",
              "      padding: 0 0 0 0;\n",
              "      width: 32px;\n",
              "    }\n",
              "\n",
              "    .colab-df-convert:hover {\n",
              "      background-color: #E2EBFA;\n",
              "      box-shadow: 0px 1px 2px rgba(60, 64, 67, 0.3), 0px 1px 3px 1px rgba(60, 64, 67, 0.15);\n",
              "      fill: #174EA6;\n",
              "    }\n",
              "\n",
              "    [theme=dark] .colab-df-convert {\n",
              "      background-color: #3B4455;\n",
              "      fill: #D2E3FC;\n",
              "    }\n",
              "\n",
              "    [theme=dark] .colab-df-convert:hover {\n",
              "      background-color: #434B5C;\n",
              "      box-shadow: 0px 1px 3px 1px rgba(0, 0, 0, 0.15);\n",
              "      filter: drop-shadow(0px 1px 2px rgba(0, 0, 0, 0.3));\n",
              "      fill: #FFFFFF;\n",
              "    }\n",
              "  </style>\n",
              "\n",
              "      <script>\n",
              "        const buttonEl =\n",
              "          document.querySelector('#df-9826f3b1-a2f1-4f72-8bab-5d4ea2af6f6f button.colab-df-convert');\n",
              "        buttonEl.style.display =\n",
              "          google.colab.kernel.accessAllowed ? 'block' : 'none';\n",
              "\n",
              "        async function convertToInteractive(key) {\n",
              "          const element = document.querySelector('#df-9826f3b1-a2f1-4f72-8bab-5d4ea2af6f6f');\n",
              "          const dataTable =\n",
              "            await google.colab.kernel.invokeFunction('convertToInteractive',\n",
              "                                                     [key], {});\n",
              "          if (!dataTable) return;\n",
              "\n",
              "          const docLinkHtml = 'Like what you see? Visit the ' +\n",
              "            '<a target=\"_blank\" href=https://colab.research.google.com/notebooks/data_table.ipynb>data table notebook</a>'\n",
              "            + ' to learn more about interactive tables.';\n",
              "          element.innerHTML = '';\n",
              "          dataTable['output_type'] = 'display_data';\n",
              "          await google.colab.output.renderOutput(dataTable, element);\n",
              "          const docLink = document.createElement('div');\n",
              "          docLink.innerHTML = docLinkHtml;\n",
              "          element.appendChild(docLink);\n",
              "        }\n",
              "      </script>\n",
              "    </div>\n",
              "  </div>\n",
              "  "
            ]
          },
          "metadata": {},
          "execution_count": 4
        }
      ]
    },
    {
      "cell_type": "markdown",
      "source": [
        "Посмотрим, каких данных у нас нет."
      ],
      "metadata": {
        "id": "reeFSuo0fKRL"
      },
      "id": "reeFSuo0fKRL"
    },
    {
      "cell_type": "code",
      "source": [
        "df.isna().sum()"
      ],
      "metadata": {
        "colab": {
          "base_uri": "https://localhost:8080/"
        },
        "id": "9Nui2hrYfHkc",
        "outputId": "2f97b9fd-66c3-4bec-f73f-e0a9b7da643a"
      },
      "id": "9Nui2hrYfHkc",
      "execution_count": 5,
      "outputs": [
        {
          "output_type": "execute_result",
          "data": {
            "text/plain": [
              "postId           0\n",
              "date             0\n",
              "version          0\n",
              "temperature      0\n",
              "pressure         0\n",
              "humidity         0\n",
              "pm2              0\n",
              "pm10             0\n",
              "aqi              0\n",
              "co             290\n",
              "no2            290\n",
              "so2            870\n",
              "o3             290\n",
              "h2s            870\n",
              "dtype: int64"
            ]
          },
          "metadata": {},
          "execution_count": 5
        }
      ]
    },
    {
      "cell_type": "markdown",
      "source": [
        "Пока просто избавимся от всех колонок с отсутствующими данными."
      ],
      "metadata": {
        "id": "fumlYJzEfP_N"
      },
      "id": "fumlYJzEfP_N"
    },
    {
      "cell_type": "code",
      "source": [
        "df.drop(columns=['version', 'aqi', 'co', 'no2', 'so2', 'o3', 'h2s'], inplace=True)\n",
        "df"
      ],
      "metadata": {
        "colab": {
          "base_uri": "https://localhost:8080/",
          "height": 424
        },
        "id": "HHuD39U-fO-J",
        "outputId": "ccc7c3de-0cde-4197-8d64-3d47c3d77d2a"
      },
      "id": "HHuD39U-fO-J",
      "execution_count": 7,
      "outputs": [
        {
          "output_type": "execute_result",
          "data": {
            "text/plain": [
              "      postId                      date  temperature   pressure    humidity  \\\n",
              "0        291 2022-01-01 00:00:00+00:00    -4.046667  732.11880  100.000000   \n",
              "1        291 2022-01-01 01:00:00+00:00    -3.731833  731.76060  100.000000   \n",
              "2        291 2022-01-01 02:00:00+00:00    -3.322333  731.48380  100.000000   \n",
              "3        291 2022-01-01 03:00:00+00:00    -3.049667  731.35680  100.000000   \n",
              "4        291 2022-01-01 04:00:00+00:00    -2.973559  731.24670  100.000000   \n",
              "...      ...                       ...          ...        ...         ...   \n",
              "1590     490 2022-01-06 20:00:00+00:00    -1.297833  735.54600   84.760330   \n",
              "1591     490 2022-01-06 21:00:00+00:00    -1.279500  735.64630   83.895836   \n",
              "1592     490 2022-01-06 22:00:00+00:00    -1.106333  735.72394   82.471500   \n",
              "1593     490 2022-01-06 23:00:00+00:00    -1.088305  735.90980   81.479660   \n",
              "1594     490 2022-01-07 00:00:00+00:00    -1.885667  736.37440   84.751500   \n",
              "\n",
              "            pm2       pm10  \n",
              "0     42.566666  58.050000  \n",
              "1     29.016666  41.716667  \n",
              "2     19.283333  26.583334  \n",
              "3     16.183332  22.033333  \n",
              "4     17.016949  23.576271  \n",
              "...         ...        ...  \n",
              "1590   8.700000   9.700000  \n",
              "1591   9.066667   9.800000  \n",
              "1592   8.700000   9.433333  \n",
              "1593   7.508474   8.135593  \n",
              "1594   4.533333   5.050000  \n",
              "\n",
              "[1595 rows x 7 columns]"
            ],
            "text/html": [
              "\n",
              "  <div id=\"df-12a64906-3d4d-4d42-b9c1-1052fd589a59\">\n",
              "    <div class=\"colab-df-container\">\n",
              "      <div>\n",
              "<style scoped>\n",
              "    .dataframe tbody tr th:only-of-type {\n",
              "        vertical-align: middle;\n",
              "    }\n",
              "\n",
              "    .dataframe tbody tr th {\n",
              "        vertical-align: top;\n",
              "    }\n",
              "\n",
              "    .dataframe thead th {\n",
              "        text-align: right;\n",
              "    }\n",
              "</style>\n",
              "<table border=\"1\" class=\"dataframe\">\n",
              "  <thead>\n",
              "    <tr style=\"text-align: right;\">\n",
              "      <th></th>\n",
              "      <th>postId</th>\n",
              "      <th>date</th>\n",
              "      <th>temperature</th>\n",
              "      <th>pressure</th>\n",
              "      <th>humidity</th>\n",
              "      <th>pm2</th>\n",
              "      <th>pm10</th>\n",
              "    </tr>\n",
              "  </thead>\n",
              "  <tbody>\n",
              "    <tr>\n",
              "      <th>0</th>\n",
              "      <td>291</td>\n",
              "      <td>2022-01-01 00:00:00+00:00</td>\n",
              "      <td>-4.046667</td>\n",
              "      <td>732.11880</td>\n",
              "      <td>100.000000</td>\n",
              "      <td>42.566666</td>\n",
              "      <td>58.050000</td>\n",
              "    </tr>\n",
              "    <tr>\n",
              "      <th>1</th>\n",
              "      <td>291</td>\n",
              "      <td>2022-01-01 01:00:00+00:00</td>\n",
              "      <td>-3.731833</td>\n",
              "      <td>731.76060</td>\n",
              "      <td>100.000000</td>\n",
              "      <td>29.016666</td>\n",
              "      <td>41.716667</td>\n",
              "    </tr>\n",
              "    <tr>\n",
              "      <th>2</th>\n",
              "      <td>291</td>\n",
              "      <td>2022-01-01 02:00:00+00:00</td>\n",
              "      <td>-3.322333</td>\n",
              "      <td>731.48380</td>\n",
              "      <td>100.000000</td>\n",
              "      <td>19.283333</td>\n",
              "      <td>26.583334</td>\n",
              "    </tr>\n",
              "    <tr>\n",
              "      <th>3</th>\n",
              "      <td>291</td>\n",
              "      <td>2022-01-01 03:00:00+00:00</td>\n",
              "      <td>-3.049667</td>\n",
              "      <td>731.35680</td>\n",
              "      <td>100.000000</td>\n",
              "      <td>16.183332</td>\n",
              "      <td>22.033333</td>\n",
              "    </tr>\n",
              "    <tr>\n",
              "      <th>4</th>\n",
              "      <td>291</td>\n",
              "      <td>2022-01-01 04:00:00+00:00</td>\n",
              "      <td>-2.973559</td>\n",
              "      <td>731.24670</td>\n",
              "      <td>100.000000</td>\n",
              "      <td>17.016949</td>\n",
              "      <td>23.576271</td>\n",
              "    </tr>\n",
              "    <tr>\n",
              "      <th>...</th>\n",
              "      <td>...</td>\n",
              "      <td>...</td>\n",
              "      <td>...</td>\n",
              "      <td>...</td>\n",
              "      <td>...</td>\n",
              "      <td>...</td>\n",
              "      <td>...</td>\n",
              "    </tr>\n",
              "    <tr>\n",
              "      <th>1590</th>\n",
              "      <td>490</td>\n",
              "      <td>2022-01-06 20:00:00+00:00</td>\n",
              "      <td>-1.297833</td>\n",
              "      <td>735.54600</td>\n",
              "      <td>84.760330</td>\n",
              "      <td>8.700000</td>\n",
              "      <td>9.700000</td>\n",
              "    </tr>\n",
              "    <tr>\n",
              "      <th>1591</th>\n",
              "      <td>490</td>\n",
              "      <td>2022-01-06 21:00:00+00:00</td>\n",
              "      <td>-1.279500</td>\n",
              "      <td>735.64630</td>\n",
              "      <td>83.895836</td>\n",
              "      <td>9.066667</td>\n",
              "      <td>9.800000</td>\n",
              "    </tr>\n",
              "    <tr>\n",
              "      <th>1592</th>\n",
              "      <td>490</td>\n",
              "      <td>2022-01-06 22:00:00+00:00</td>\n",
              "      <td>-1.106333</td>\n",
              "      <td>735.72394</td>\n",
              "      <td>82.471500</td>\n",
              "      <td>8.700000</td>\n",
              "      <td>9.433333</td>\n",
              "    </tr>\n",
              "    <tr>\n",
              "      <th>1593</th>\n",
              "      <td>490</td>\n",
              "      <td>2022-01-06 23:00:00+00:00</td>\n",
              "      <td>-1.088305</td>\n",
              "      <td>735.90980</td>\n",
              "      <td>81.479660</td>\n",
              "      <td>7.508474</td>\n",
              "      <td>8.135593</td>\n",
              "    </tr>\n",
              "    <tr>\n",
              "      <th>1594</th>\n",
              "      <td>490</td>\n",
              "      <td>2022-01-07 00:00:00+00:00</td>\n",
              "      <td>-1.885667</td>\n",
              "      <td>736.37440</td>\n",
              "      <td>84.751500</td>\n",
              "      <td>4.533333</td>\n",
              "      <td>5.050000</td>\n",
              "    </tr>\n",
              "  </tbody>\n",
              "</table>\n",
              "<p>1595 rows × 7 columns</p>\n",
              "</div>\n",
              "      <button class=\"colab-df-convert\" onclick=\"convertToInteractive('df-12a64906-3d4d-4d42-b9c1-1052fd589a59')\"\n",
              "              title=\"Convert this dataframe to an interactive table.\"\n",
              "              style=\"display:none;\">\n",
              "        \n",
              "  <svg xmlns=\"http://www.w3.org/2000/svg\" height=\"24px\"viewBox=\"0 0 24 24\"\n",
              "       width=\"24px\">\n",
              "    <path d=\"M0 0h24v24H0V0z\" fill=\"none\"/>\n",
              "    <path d=\"M18.56 5.44l.94 2.06.94-2.06 2.06-.94-2.06-.94-.94-2.06-.94 2.06-2.06.94zm-11 1L8.5 8.5l.94-2.06 2.06-.94-2.06-.94L8.5 2.5l-.94 2.06-2.06.94zm10 10l.94 2.06.94-2.06 2.06-.94-2.06-.94-.94-2.06-.94 2.06-2.06.94z\"/><path d=\"M17.41 7.96l-1.37-1.37c-.4-.4-.92-.59-1.43-.59-.52 0-1.04.2-1.43.59L10.3 9.45l-7.72 7.72c-.78.78-.78 2.05 0 2.83L4 21.41c.39.39.9.59 1.41.59.51 0 1.02-.2 1.41-.59l7.78-7.78 2.81-2.81c.8-.78.8-2.07 0-2.86zM5.41 20L4 18.59l7.72-7.72 1.47 1.35L5.41 20z\"/>\n",
              "  </svg>\n",
              "      </button>\n",
              "      \n",
              "  <style>\n",
              "    .colab-df-container {\n",
              "      display:flex;\n",
              "      flex-wrap:wrap;\n",
              "      gap: 12px;\n",
              "    }\n",
              "\n",
              "    .colab-df-convert {\n",
              "      background-color: #E8F0FE;\n",
              "      border: none;\n",
              "      border-radius: 50%;\n",
              "      cursor: pointer;\n",
              "      display: none;\n",
              "      fill: #1967D2;\n",
              "      height: 32px;\n",
              "      padding: 0 0 0 0;\n",
              "      width: 32px;\n",
              "    }\n",
              "\n",
              "    .colab-df-convert:hover {\n",
              "      background-color: #E2EBFA;\n",
              "      box-shadow: 0px 1px 2px rgba(60, 64, 67, 0.3), 0px 1px 3px 1px rgba(60, 64, 67, 0.15);\n",
              "      fill: #174EA6;\n",
              "    }\n",
              "\n",
              "    [theme=dark] .colab-df-convert {\n",
              "      background-color: #3B4455;\n",
              "      fill: #D2E3FC;\n",
              "    }\n",
              "\n",
              "    [theme=dark] .colab-df-convert:hover {\n",
              "      background-color: #434B5C;\n",
              "      box-shadow: 0px 1px 3px 1px rgba(0, 0, 0, 0.15);\n",
              "      filter: drop-shadow(0px 1px 2px rgba(0, 0, 0, 0.3));\n",
              "      fill: #FFFFFF;\n",
              "    }\n",
              "  </style>\n",
              "\n",
              "      <script>\n",
              "        const buttonEl =\n",
              "          document.querySelector('#df-12a64906-3d4d-4d42-b9c1-1052fd589a59 button.colab-df-convert');\n",
              "        buttonEl.style.display =\n",
              "          google.colab.kernel.accessAllowed ? 'block' : 'none';\n",
              "\n",
              "        async function convertToInteractive(key) {\n",
              "          const element = document.querySelector('#df-12a64906-3d4d-4d42-b9c1-1052fd589a59');\n",
              "          const dataTable =\n",
              "            await google.colab.kernel.invokeFunction('convertToInteractive',\n",
              "                                                     [key], {});\n",
              "          if (!dataTable) return;\n",
              "\n",
              "          const docLinkHtml = 'Like what you see? Visit the ' +\n",
              "            '<a target=\"_blank\" href=https://colab.research.google.com/notebooks/data_table.ipynb>data table notebook</a>'\n",
              "            + ' to learn more about interactive tables.';\n",
              "          element.innerHTML = '';\n",
              "          dataTable['output_type'] = 'display_data';\n",
              "          await google.colab.output.renderOutput(dataTable, element);\n",
              "          const docLink = document.createElement('div');\n",
              "          docLink.innerHTML = docLinkHtml;\n",
              "          element.appendChild(docLink);\n",
              "        }\n",
              "      </script>\n",
              "    </div>\n",
              "  </div>\n",
              "  "
            ]
          },
          "metadata": {},
          "execution_count": 7
        }
      ]
    },
    {
      "cell_type": "code",
      "source": [
        "df.date.min(), df.date.max()"
      ],
      "metadata": {
        "colab": {
          "base_uri": "https://localhost:8080/"
        },
        "id": "vwTsfkqvfSi3",
        "outputId": "779d1d8d-019b-4b3e-9ba8-d3ffbcd8958b"
      },
      "id": "vwTsfkqvfSi3",
      "execution_count": 8,
      "outputs": [
        {
          "output_type": "execute_result",
          "data": {
            "text/plain": [
              "(Timestamp('2022-01-01 00:00:00+0000', tz='UTC'),\n",
              " Timestamp('2022-01-07 00:00:00+0000', tz='UTC'))"
            ]
          },
          "metadata": {},
          "execution_count": 8
        }
      ]
    },
    {
      "cell_type": "markdown",
      "source": [
        "У нас имееются данные за неделю. Как видим, прогнозы почасовые. Пока оставим только показания датчика с $id = 291$."
      ],
      "metadata": {
        "id": "42-uN0lXfYN1"
      },
      "id": "42-uN0lXfYN1"
    },
    {
      "cell_type": "code",
      "source": [
        "df291 = df[df['postId'] == 291]\n",
        "df291"
      ],
      "metadata": {
        "colab": {
          "base_uri": "https://localhost:8080/",
          "height": 424
        },
        "id": "N_2QzJOgfUhh",
        "outputId": "8c3cc243-d02b-42c7-a09a-cc4659afd2d1"
      },
      "id": "N_2QzJOgfUhh",
      "execution_count": 9,
      "outputs": [
        {
          "output_type": "execute_result",
          "data": {
            "text/plain": [
              "     postId                      date  temperature   pressure    humidity  \\\n",
              "0       291 2022-01-01 00:00:00+00:00    -4.046667  732.11880  100.000000   \n",
              "1       291 2022-01-01 01:00:00+00:00    -3.731833  731.76060  100.000000   \n",
              "2       291 2022-01-01 02:00:00+00:00    -3.322333  731.48380  100.000000   \n",
              "3       291 2022-01-01 03:00:00+00:00    -3.049667  731.35680  100.000000   \n",
              "4       291 2022-01-01 04:00:00+00:00    -2.973559  731.24670  100.000000   \n",
              "..      ...                       ...          ...        ...         ...   \n",
              "140     291 2022-01-06 20:00:00+00:00    -2.016667  728.51280   99.232330   \n",
              "141     291 2022-01-06 21:00:00+00:00    -2.035000  728.61220   99.375170   \n",
              "142     291 2022-01-06 22:00:00+00:00    -1.878667  728.69480   98.809000   \n",
              "143     291 2022-01-06 23:00:00+00:00    -1.727500  728.98895   95.130165   \n",
              "144     291 2022-01-07 00:00:00+00:00    -2.200667  729.43024   93.396670   \n",
              "\n",
              "           pm2       pm10  \n",
              "0    42.566666  58.050000  \n",
              "1    29.016666  41.716667  \n",
              "2    19.283333  26.583334  \n",
              "3    16.183332  22.033333  \n",
              "4    17.016949  23.576271  \n",
              "..         ...        ...  \n",
              "140   6.750000   8.566667  \n",
              "141   7.433333  10.533334  \n",
              "142   7.550000  11.333333  \n",
              "143   6.950000   9.433333  \n",
              "144   5.950000   8.133333  \n",
              "\n",
              "[145 rows x 7 columns]"
            ],
            "text/html": [
              "\n",
              "  <div id=\"df-2e31d507-3b62-4de4-9471-1ca15260fcf7\">\n",
              "    <div class=\"colab-df-container\">\n",
              "      <div>\n",
              "<style scoped>\n",
              "    .dataframe tbody tr th:only-of-type {\n",
              "        vertical-align: middle;\n",
              "    }\n",
              "\n",
              "    .dataframe tbody tr th {\n",
              "        vertical-align: top;\n",
              "    }\n",
              "\n",
              "    .dataframe thead th {\n",
              "        text-align: right;\n",
              "    }\n",
              "</style>\n",
              "<table border=\"1\" class=\"dataframe\">\n",
              "  <thead>\n",
              "    <tr style=\"text-align: right;\">\n",
              "      <th></th>\n",
              "      <th>postId</th>\n",
              "      <th>date</th>\n",
              "      <th>temperature</th>\n",
              "      <th>pressure</th>\n",
              "      <th>humidity</th>\n",
              "      <th>pm2</th>\n",
              "      <th>pm10</th>\n",
              "    </tr>\n",
              "  </thead>\n",
              "  <tbody>\n",
              "    <tr>\n",
              "      <th>0</th>\n",
              "      <td>291</td>\n",
              "      <td>2022-01-01 00:00:00+00:00</td>\n",
              "      <td>-4.046667</td>\n",
              "      <td>732.11880</td>\n",
              "      <td>100.000000</td>\n",
              "      <td>42.566666</td>\n",
              "      <td>58.050000</td>\n",
              "    </tr>\n",
              "    <tr>\n",
              "      <th>1</th>\n",
              "      <td>291</td>\n",
              "      <td>2022-01-01 01:00:00+00:00</td>\n",
              "      <td>-3.731833</td>\n",
              "      <td>731.76060</td>\n",
              "      <td>100.000000</td>\n",
              "      <td>29.016666</td>\n",
              "      <td>41.716667</td>\n",
              "    </tr>\n",
              "    <tr>\n",
              "      <th>2</th>\n",
              "      <td>291</td>\n",
              "      <td>2022-01-01 02:00:00+00:00</td>\n",
              "      <td>-3.322333</td>\n",
              "      <td>731.48380</td>\n",
              "      <td>100.000000</td>\n",
              "      <td>19.283333</td>\n",
              "      <td>26.583334</td>\n",
              "    </tr>\n",
              "    <tr>\n",
              "      <th>3</th>\n",
              "      <td>291</td>\n",
              "      <td>2022-01-01 03:00:00+00:00</td>\n",
              "      <td>-3.049667</td>\n",
              "      <td>731.35680</td>\n",
              "      <td>100.000000</td>\n",
              "      <td>16.183332</td>\n",
              "      <td>22.033333</td>\n",
              "    </tr>\n",
              "    <tr>\n",
              "      <th>4</th>\n",
              "      <td>291</td>\n",
              "      <td>2022-01-01 04:00:00+00:00</td>\n",
              "      <td>-2.973559</td>\n",
              "      <td>731.24670</td>\n",
              "      <td>100.000000</td>\n",
              "      <td>17.016949</td>\n",
              "      <td>23.576271</td>\n",
              "    </tr>\n",
              "    <tr>\n",
              "      <th>...</th>\n",
              "      <td>...</td>\n",
              "      <td>...</td>\n",
              "      <td>...</td>\n",
              "      <td>...</td>\n",
              "      <td>...</td>\n",
              "      <td>...</td>\n",
              "      <td>...</td>\n",
              "    </tr>\n",
              "    <tr>\n",
              "      <th>140</th>\n",
              "      <td>291</td>\n",
              "      <td>2022-01-06 20:00:00+00:00</td>\n",
              "      <td>-2.016667</td>\n",
              "      <td>728.51280</td>\n",
              "      <td>99.232330</td>\n",
              "      <td>6.750000</td>\n",
              "      <td>8.566667</td>\n",
              "    </tr>\n",
              "    <tr>\n",
              "      <th>141</th>\n",
              "      <td>291</td>\n",
              "      <td>2022-01-06 21:00:00+00:00</td>\n",
              "      <td>-2.035000</td>\n",
              "      <td>728.61220</td>\n",
              "      <td>99.375170</td>\n",
              "      <td>7.433333</td>\n",
              "      <td>10.533334</td>\n",
              "    </tr>\n",
              "    <tr>\n",
              "      <th>142</th>\n",
              "      <td>291</td>\n",
              "      <td>2022-01-06 22:00:00+00:00</td>\n",
              "      <td>-1.878667</td>\n",
              "      <td>728.69480</td>\n",
              "      <td>98.809000</td>\n",
              "      <td>7.550000</td>\n",
              "      <td>11.333333</td>\n",
              "    </tr>\n",
              "    <tr>\n",
              "      <th>143</th>\n",
              "      <td>291</td>\n",
              "      <td>2022-01-06 23:00:00+00:00</td>\n",
              "      <td>-1.727500</td>\n",
              "      <td>728.98895</td>\n",
              "      <td>95.130165</td>\n",
              "      <td>6.950000</td>\n",
              "      <td>9.433333</td>\n",
              "    </tr>\n",
              "    <tr>\n",
              "      <th>144</th>\n",
              "      <td>291</td>\n",
              "      <td>2022-01-07 00:00:00+00:00</td>\n",
              "      <td>-2.200667</td>\n",
              "      <td>729.43024</td>\n",
              "      <td>93.396670</td>\n",
              "      <td>5.950000</td>\n",
              "      <td>8.133333</td>\n",
              "    </tr>\n",
              "  </tbody>\n",
              "</table>\n",
              "<p>145 rows × 7 columns</p>\n",
              "</div>\n",
              "      <button class=\"colab-df-convert\" onclick=\"convertToInteractive('df-2e31d507-3b62-4de4-9471-1ca15260fcf7')\"\n",
              "              title=\"Convert this dataframe to an interactive table.\"\n",
              "              style=\"display:none;\">\n",
              "        \n",
              "  <svg xmlns=\"http://www.w3.org/2000/svg\" height=\"24px\"viewBox=\"0 0 24 24\"\n",
              "       width=\"24px\">\n",
              "    <path d=\"M0 0h24v24H0V0z\" fill=\"none\"/>\n",
              "    <path d=\"M18.56 5.44l.94 2.06.94-2.06 2.06-.94-2.06-.94-.94-2.06-.94 2.06-2.06.94zm-11 1L8.5 8.5l.94-2.06 2.06-.94-2.06-.94L8.5 2.5l-.94 2.06-2.06.94zm10 10l.94 2.06.94-2.06 2.06-.94-2.06-.94-.94-2.06-.94 2.06-2.06.94z\"/><path d=\"M17.41 7.96l-1.37-1.37c-.4-.4-.92-.59-1.43-.59-.52 0-1.04.2-1.43.59L10.3 9.45l-7.72 7.72c-.78.78-.78 2.05 0 2.83L4 21.41c.39.39.9.59 1.41.59.51 0 1.02-.2 1.41-.59l7.78-7.78 2.81-2.81c.8-.78.8-2.07 0-2.86zM5.41 20L4 18.59l7.72-7.72 1.47 1.35L5.41 20z\"/>\n",
              "  </svg>\n",
              "      </button>\n",
              "      \n",
              "  <style>\n",
              "    .colab-df-container {\n",
              "      display:flex;\n",
              "      flex-wrap:wrap;\n",
              "      gap: 12px;\n",
              "    }\n",
              "\n",
              "    .colab-df-convert {\n",
              "      background-color: #E8F0FE;\n",
              "      border: none;\n",
              "      border-radius: 50%;\n",
              "      cursor: pointer;\n",
              "      display: none;\n",
              "      fill: #1967D2;\n",
              "      height: 32px;\n",
              "      padding: 0 0 0 0;\n",
              "      width: 32px;\n",
              "    }\n",
              "\n",
              "    .colab-df-convert:hover {\n",
              "      background-color: #E2EBFA;\n",
              "      box-shadow: 0px 1px 2px rgba(60, 64, 67, 0.3), 0px 1px 3px 1px rgba(60, 64, 67, 0.15);\n",
              "      fill: #174EA6;\n",
              "    }\n",
              "\n",
              "    [theme=dark] .colab-df-convert {\n",
              "      background-color: #3B4455;\n",
              "      fill: #D2E3FC;\n",
              "    }\n",
              "\n",
              "    [theme=dark] .colab-df-convert:hover {\n",
              "      background-color: #434B5C;\n",
              "      box-shadow: 0px 1px 3px 1px rgba(0, 0, 0, 0.15);\n",
              "      filter: drop-shadow(0px 1px 2px rgba(0, 0, 0, 0.3));\n",
              "      fill: #FFFFFF;\n",
              "    }\n",
              "  </style>\n",
              "\n",
              "      <script>\n",
              "        const buttonEl =\n",
              "          document.querySelector('#df-2e31d507-3b62-4de4-9471-1ca15260fcf7 button.colab-df-convert');\n",
              "        buttonEl.style.display =\n",
              "          google.colab.kernel.accessAllowed ? 'block' : 'none';\n",
              "\n",
              "        async function convertToInteractive(key) {\n",
              "          const element = document.querySelector('#df-2e31d507-3b62-4de4-9471-1ca15260fcf7');\n",
              "          const dataTable =\n",
              "            await google.colab.kernel.invokeFunction('convertToInteractive',\n",
              "                                                     [key], {});\n",
              "          if (!dataTable) return;\n",
              "\n",
              "          const docLinkHtml = 'Like what you see? Visit the ' +\n",
              "            '<a target=\"_blank\" href=https://colab.research.google.com/notebooks/data_table.ipynb>data table notebook</a>'\n",
              "            + ' to learn more about interactive tables.';\n",
              "          element.innerHTML = '';\n",
              "          dataTable['output_type'] = 'display_data';\n",
              "          await google.colab.output.renderOutput(dataTable, element);\n",
              "          const docLink = document.createElement('div');\n",
              "          docLink.innerHTML = docLinkHtml;\n",
              "          element.appendChild(docLink);\n",
              "        }\n",
              "      </script>\n",
              "    </div>\n",
              "  </div>\n",
              "  "
            ]
          },
          "metadata": {},
          "execution_count": 9
        }
      ]
    },
    {
      "cell_type": "code",
      "source": [
        "features_considered = ['temperature', 'pressure', 'humidity', 'pm2', 'pm10']\n",
        "features = df291[features_considered]\n",
        "features.index = df291['date']\n",
        "features.head()"
      ],
      "metadata": {
        "colab": {
          "base_uri": "https://localhost:8080/",
          "height": 238
        },
        "id": "QongI_1HjX9x",
        "outputId": "05188973-85f1-4aa2-a0b0-445d7916d7e0"
      },
      "id": "QongI_1HjX9x",
      "execution_count": 10,
      "outputs": [
        {
          "output_type": "execute_result",
          "data": {
            "text/plain": [
              "                           temperature  pressure  humidity        pm2  \\\n",
              "date                                                                    \n",
              "2022-01-01 00:00:00+00:00    -4.046667  732.1188     100.0  42.566666   \n",
              "2022-01-01 01:00:00+00:00    -3.731833  731.7606     100.0  29.016666   \n",
              "2022-01-01 02:00:00+00:00    -3.322333  731.4838     100.0  19.283333   \n",
              "2022-01-01 03:00:00+00:00    -3.049667  731.3568     100.0  16.183332   \n",
              "2022-01-01 04:00:00+00:00    -2.973559  731.2467     100.0  17.016949   \n",
              "\n",
              "                                pm10  \n",
              "date                                  \n",
              "2022-01-01 00:00:00+00:00  58.050000  \n",
              "2022-01-01 01:00:00+00:00  41.716667  \n",
              "2022-01-01 02:00:00+00:00  26.583334  \n",
              "2022-01-01 03:00:00+00:00  22.033333  \n",
              "2022-01-01 04:00:00+00:00  23.576271  "
            ],
            "text/html": [
              "\n",
              "  <div id=\"df-1764fb07-6442-4ca1-a63e-749e8ea872ea\">\n",
              "    <div class=\"colab-df-container\">\n",
              "      <div>\n",
              "<style scoped>\n",
              "    .dataframe tbody tr th:only-of-type {\n",
              "        vertical-align: middle;\n",
              "    }\n",
              "\n",
              "    .dataframe tbody tr th {\n",
              "        vertical-align: top;\n",
              "    }\n",
              "\n",
              "    .dataframe thead th {\n",
              "        text-align: right;\n",
              "    }\n",
              "</style>\n",
              "<table border=\"1\" class=\"dataframe\">\n",
              "  <thead>\n",
              "    <tr style=\"text-align: right;\">\n",
              "      <th></th>\n",
              "      <th>temperature</th>\n",
              "      <th>pressure</th>\n",
              "      <th>humidity</th>\n",
              "      <th>pm2</th>\n",
              "      <th>pm10</th>\n",
              "    </tr>\n",
              "    <tr>\n",
              "      <th>date</th>\n",
              "      <th></th>\n",
              "      <th></th>\n",
              "      <th></th>\n",
              "      <th></th>\n",
              "      <th></th>\n",
              "    </tr>\n",
              "  </thead>\n",
              "  <tbody>\n",
              "    <tr>\n",
              "      <th>2022-01-01 00:00:00+00:00</th>\n",
              "      <td>-4.046667</td>\n",
              "      <td>732.1188</td>\n",
              "      <td>100.0</td>\n",
              "      <td>42.566666</td>\n",
              "      <td>58.050000</td>\n",
              "    </tr>\n",
              "    <tr>\n",
              "      <th>2022-01-01 01:00:00+00:00</th>\n",
              "      <td>-3.731833</td>\n",
              "      <td>731.7606</td>\n",
              "      <td>100.0</td>\n",
              "      <td>29.016666</td>\n",
              "      <td>41.716667</td>\n",
              "    </tr>\n",
              "    <tr>\n",
              "      <th>2022-01-01 02:00:00+00:00</th>\n",
              "      <td>-3.322333</td>\n",
              "      <td>731.4838</td>\n",
              "      <td>100.0</td>\n",
              "      <td>19.283333</td>\n",
              "      <td>26.583334</td>\n",
              "    </tr>\n",
              "    <tr>\n",
              "      <th>2022-01-01 03:00:00+00:00</th>\n",
              "      <td>-3.049667</td>\n",
              "      <td>731.3568</td>\n",
              "      <td>100.0</td>\n",
              "      <td>16.183332</td>\n",
              "      <td>22.033333</td>\n",
              "    </tr>\n",
              "    <tr>\n",
              "      <th>2022-01-01 04:00:00+00:00</th>\n",
              "      <td>-2.973559</td>\n",
              "      <td>731.2467</td>\n",
              "      <td>100.0</td>\n",
              "      <td>17.016949</td>\n",
              "      <td>23.576271</td>\n",
              "    </tr>\n",
              "  </tbody>\n",
              "</table>\n",
              "</div>\n",
              "      <button class=\"colab-df-convert\" onclick=\"convertToInteractive('df-1764fb07-6442-4ca1-a63e-749e8ea872ea')\"\n",
              "              title=\"Convert this dataframe to an interactive table.\"\n",
              "              style=\"display:none;\">\n",
              "        \n",
              "  <svg xmlns=\"http://www.w3.org/2000/svg\" height=\"24px\"viewBox=\"0 0 24 24\"\n",
              "       width=\"24px\">\n",
              "    <path d=\"M0 0h24v24H0V0z\" fill=\"none\"/>\n",
              "    <path d=\"M18.56 5.44l.94 2.06.94-2.06 2.06-.94-2.06-.94-.94-2.06-.94 2.06-2.06.94zm-11 1L8.5 8.5l.94-2.06 2.06-.94-2.06-.94L8.5 2.5l-.94 2.06-2.06.94zm10 10l.94 2.06.94-2.06 2.06-.94-2.06-.94-.94-2.06-.94 2.06-2.06.94z\"/><path d=\"M17.41 7.96l-1.37-1.37c-.4-.4-.92-.59-1.43-.59-.52 0-1.04.2-1.43.59L10.3 9.45l-7.72 7.72c-.78.78-.78 2.05 0 2.83L4 21.41c.39.39.9.59 1.41.59.51 0 1.02-.2 1.41-.59l7.78-7.78 2.81-2.81c.8-.78.8-2.07 0-2.86zM5.41 20L4 18.59l7.72-7.72 1.47 1.35L5.41 20z\"/>\n",
              "  </svg>\n",
              "      </button>\n",
              "      \n",
              "  <style>\n",
              "    .colab-df-container {\n",
              "      display:flex;\n",
              "      flex-wrap:wrap;\n",
              "      gap: 12px;\n",
              "    }\n",
              "\n",
              "    .colab-df-convert {\n",
              "      background-color: #E8F0FE;\n",
              "      border: none;\n",
              "      border-radius: 50%;\n",
              "      cursor: pointer;\n",
              "      display: none;\n",
              "      fill: #1967D2;\n",
              "      height: 32px;\n",
              "      padding: 0 0 0 0;\n",
              "      width: 32px;\n",
              "    }\n",
              "\n",
              "    .colab-df-convert:hover {\n",
              "      background-color: #E2EBFA;\n",
              "      box-shadow: 0px 1px 2px rgba(60, 64, 67, 0.3), 0px 1px 3px 1px rgba(60, 64, 67, 0.15);\n",
              "      fill: #174EA6;\n",
              "    }\n",
              "\n",
              "    [theme=dark] .colab-df-convert {\n",
              "      background-color: #3B4455;\n",
              "      fill: #D2E3FC;\n",
              "    }\n",
              "\n",
              "    [theme=dark] .colab-df-convert:hover {\n",
              "      background-color: #434B5C;\n",
              "      box-shadow: 0px 1px 3px 1px rgba(0, 0, 0, 0.15);\n",
              "      filter: drop-shadow(0px 1px 2px rgba(0, 0, 0, 0.3));\n",
              "      fill: #FFFFFF;\n",
              "    }\n",
              "  </style>\n",
              "\n",
              "      <script>\n",
              "        const buttonEl =\n",
              "          document.querySelector('#df-1764fb07-6442-4ca1-a63e-749e8ea872ea button.colab-df-convert');\n",
              "        buttonEl.style.display =\n",
              "          google.colab.kernel.accessAllowed ? 'block' : 'none';\n",
              "\n",
              "        async function convertToInteractive(key) {\n",
              "          const element = document.querySelector('#df-1764fb07-6442-4ca1-a63e-749e8ea872ea');\n",
              "          const dataTable =\n",
              "            await google.colab.kernel.invokeFunction('convertToInteractive',\n",
              "                                                     [key], {});\n",
              "          if (!dataTable) return;\n",
              "\n",
              "          const docLinkHtml = 'Like what you see? Visit the ' +\n",
              "            '<a target=\"_blank\" href=https://colab.research.google.com/notebooks/data_table.ipynb>data table notebook</a>'\n",
              "            + ' to learn more about interactive tables.';\n",
              "          element.innerHTML = '';\n",
              "          dataTable['output_type'] = 'display_data';\n",
              "          await google.colab.output.renderOutput(dataTable, element);\n",
              "          const docLink = document.createElement('div');\n",
              "          docLink.innerHTML = docLinkHtml;\n",
              "          element.appendChild(docLink);\n",
              "        }\n",
              "      </script>\n",
              "    </div>\n",
              "  </div>\n",
              "  "
            ]
          },
          "metadata": {},
          "execution_count": 10
        }
      ]
    },
    {
      "cell_type": "markdown",
      "source": [
        "Данные будем делить в отношении 7:3 по временной шкале. Первая часть относится к обучающим данным, вторая - к тестовым."
      ],
      "metadata": {
        "id": "N3HsuNAtjgEP"
      },
      "id": "N3HsuNAtjgEP"
    },
    {
      "cell_type": "code",
      "source": [
        "TRAIN_SPLIT = int(0.7 * len(features))\n",
        "\n",
        "train = features[:TRAIN_SPLIT]\n",
        "test = features[TRAIN_SPLIT:]"
      ],
      "metadata": {
        "id": "Q5a7wK1FjhCR"
      },
      "id": "Q5a7wK1FjhCR",
      "execution_count": 11,
      "outputs": []
    },
    {
      "cell_type": "markdown",
      "source": [
        "Выполним нормализацию данных."
      ],
      "metadata": {
        "id": "eKSqDOzXjlC9"
      },
      "id": "eKSqDOzXjlC9"
    },
    {
      "cell_type": "code",
      "source": [
        "scaler = MinMaxScaler(feature_range=(-1, 1))\n",
        "train_data_normalized = scaler.fit_transform(train)\n",
        "test_data_normalized = scaler.transform(test)"
      ],
      "metadata": {
        "id": "sXzsjEvNjl2Y"
      },
      "id": "sXzsjEvNjl2Y",
      "execution_count": 12,
      "outputs": []
    },
    {
      "cell_type": "markdown",
      "source": [
        "Для обучения нужно создать датасет, который будет возвращать последовательность из $\\tau$ элементов временного ряда для обучения и следующий за ними $(\\tau+1)$-элемент как таргет. Для этого мы создадим класс-наследник от класса `Dataset`."
      ],
      "metadata": {
        "id": "5DeDYpQSkOXq"
      },
      "id": "5DeDYpQSkOXq"
    },
    {
      "cell_type": "code",
      "source": [
        "class TSDataset(Dataset):\n",
        "    def __init__(self, data, n_past):\n",
        "        self.data = data\n",
        "        self.n_past = n_past  # tau -- длина отрезка временого ряда\n",
        "\n",
        "    def __len__(self):\n",
        "        return self.data.shape[0] - self.n_past\n",
        "\n",
        "    def __getitem__(self, index):\n",
        "        return self.data[index: self.n_past + index], self.data[self.n_past + index]"
      ],
      "metadata": {
        "id": "Qw2MGhTljoB_"
      },
      "id": "Qw2MGhTljoB_",
      "execution_count": 13,
      "outputs": []
    },
    {
      "cell_type": "markdown",
      "source": [
        "Модель будет смотреть в прошлое на $\\tau$ измерений. В данных одному дню соответствует $24$ измерения, поэтому возьмем $\\tau=24$."
      ],
      "metadata": {
        "id": "nJZYhGZDkiCs"
      },
      "id": "nJZYhGZDkiCs"
    },
    {
      "cell_type": "code",
      "source": [
        "n_past = 24  # tau -- длина отрезка временого ряда\n",
        "batch_size = 32  # размер батча\n",
        "\n",
        "train_dataset = TSDataset(train_data_normalized, n_past)\n",
        "train_batch_gen = DataLoader(train_dataset, batch_size, shuffle=False)"
      ],
      "metadata": {
        "id": "OL7z7AY6juQn"
      },
      "id": "OL7z7AY6juQn",
      "execution_count": 16,
      "outputs": []
    },
    {
      "cell_type": "markdown",
      "source": [
        "Пайплайн обучения:"
      ],
      "metadata": {
        "id": "0Aj7xiTGmM1q"
      },
      "id": "0Aj7xiTGmM1q"
    },
    {
      "cell_type": "code",
      "source": [
        "def plot_learning_curves(history):\n",
        "    '''\n",
        "    Функция для вывода лосса во время обучения.\n",
        "\n",
        "    :param history: (dict)\n",
        "        loss на обучении.\n",
        "    '''\n",
        "\n",
        "    fig = plt.figure(figsize=(10, 5))\n",
        "    plt.plot(history['loss'])\n",
        "    plt.ylabel('Лосс')\n",
        "    plt.xlabel('Эпоха')\n",
        "    plt.show()\n",
        "\n",
        "\n",
        "def evaluate_ts_model(model, start_seq, test_data):\n",
        "    '''\n",
        "    Функция для проверки качества модели на тестовом отрезке ряда.\n",
        "\n",
        "    :param model: обучаемая модель,\n",
        "    :param start_seq: обучающие данные для первого предсказания,\n",
        "    :param test_data: тестовые данные.\n",
        "\n",
        "    :return: результаты предсказания.\n",
        "    '''\n",
        "    result = []\n",
        "\n",
        "    input_tensor = torch.FloatTensor(start_seq).to(device).unsqueeze(0)\n",
        "    with torch.no_grad():\n",
        "        for i in range(len(test_data)):\n",
        "            logits = model(input_tensor[:, i:, :]).unsqueeze(0)\n",
        "            input_tensor = torch.cat((input_tensor, logits), 1)\n",
        "            result.append(logits.cpu().numpy().squeeze())\n",
        "    return result\n",
        "\n",
        "\n",
        "def plot_ts_results(y_pred, y_true, train_split, title, lw=2):\n",
        "    '''\n",
        "    Визуализирует результаты прогнозирования\n",
        "\n",
        "    :param y_pred: прогнозы\n",
        "    :param y_true: истинные значения\n",
        "    :param train_split: индекс для разделения данных на трейн и тест\n",
        "    :param title: название\n",
        "    :param lw: толщина линии\n",
        "    '''\n",
        "    plt.figure(figsize=(18, 8))\n",
        "\n",
        "    plt.plot(features.index, features[y_true], label='Истина', lw=lw)\n",
        "    plt.plot(features.index[train_split:], y_pred, label='Предсказание', lw=lw)\n",
        "\n",
        "    plt.title(title)\n",
        "    plt.xlabel('Время')\n",
        "    plt.ylabel(y_true)\n",
        "    plt.legend()\n",
        "    plt.show()\n",
        "\n",
        "\n",
        "def train_ts_model(\n",
        "    model,\n",
        "    criterion,\n",
        "    optimizer,\n",
        "    train_batch_gen,\n",
        "    num_epochs=50,\n",
        "):\n",
        "    '''\n",
        "    Функция для обучения модели и вывода лосса во время обучения.\n",
        "\n",
        "    :param model: обучаемая модель\n",
        "    :param criterion: функция потерь\n",
        "    :param optimizer: метод оптимизации\n",
        "    :param train_batch_gen: генератор батчей для обучения\n",
        "    :param num_epochs: количество эпох\n",
        "\n",
        "    :return: обученная модель\n",
        "    :return: (dict) loss на обучении ('история' обучения)\n",
        "    '''\n",
        "\n",
        "    history = defaultdict(list)\n",
        "\n",
        "    for epoch in range(num_epochs):\n",
        "        train_loss = 0\n",
        "        train_acc = 0\n",
        "\n",
        "        start_time = time.time()\n",
        "\n",
        "        # Устанавливаем поведение dropout / batch_norm  в обучение\n",
        "        model.train(True)\n",
        "\n",
        "        # На каждой 'эпохе' делаем полный проход по данным\n",
        "        for X_batch, y_batch in train_batch_gen:\n",
        "            X_batch = X_batch.type('torch.FloatTensor').to(device)\n",
        "            y_batch = y_batch.type('torch.FloatTensor').to(device)\n",
        "\n",
        "            logits = model(X_batch)\n",
        "\n",
        "            loss = criterion(logits, y_batch)\n",
        "\n",
        "            loss.backward()\n",
        "            optimizer.step()\n",
        "            optimizer.zero_grad()\n",
        "\n",
        "            train_loss += np.sum(loss.detach().cpu().numpy())\n",
        "\n",
        "        # Подсчитываем лосс и сохраням в 'историю'\n",
        "        train_loss /= len(train_batch_gen)\n",
        "        history['loss'].append(train_loss)\n",
        "\n",
        "        clear_output()\n",
        "\n",
        "        # Печатаем результаты после каждой эпохи\n",
        "        print('Эпоха {} из {} выполнена за {:.3f} сек.'.format(\n",
        "            epoch + 1, num_epochs, time.time() - start_time))\n",
        "        print('  лосс: \\t{:.6f}'.format(train_loss))\n",
        "        plot_learning_curves(history)\n",
        "\n",
        "    return model, history"
      ],
      "metadata": {
        "id": "YJ-hwqytkJWM"
      },
      "id": "YJ-hwqytkJWM",
      "execution_count": 17,
      "outputs": []
    },
    {
      "cell_type": "markdown",
      "source": [
        "Напишем однослойную LSTM."
      ],
      "metadata": {
        "id": "TRwYTJLimUTo"
      },
      "id": "TRwYTJLimUTo"
    },
    {
      "cell_type": "code",
      "source": [
        "class LSTM(nn.Module):\n",
        "    def __init__(self, input_size, output_size, hidden_size=100):\n",
        "        super().__init__()\n",
        "        self.hidden_size = hidden_size\n",
        "        self.lstm = nn.LSTM(input_size=input_size,\n",
        "                            hidden_size=hidden_size, batch_first=True)\n",
        "        self.linear = nn.Linear(in_features=hidden_size,\n",
        "                                out_features=output_size)\n",
        "\n",
        "    def forward(self, input_seq):\n",
        "        lstm_out, (hidden_state, _) = self.lstm(input_seq)\n",
        "        predictions = self.linear(hidden_state.squeeze(0))\n",
        "        return predictions"
      ],
      "metadata": {
        "id": "5szUfQO9lzjY"
      },
      "id": "5szUfQO9lzjY",
      "execution_count": 18,
      "outputs": []
    },
    {
      "cell_type": "markdown",
      "source": [
        "Объявляем и обучаем модель."
      ],
      "metadata": {
        "id": "wowjV3IOmanU"
      },
      "id": "wowjV3IOmanU"
    },
    {
      "cell_type": "code",
      "source": [
        "lstm_model = LSTM(input_size=5, output_size=5)\n",
        "lstm_model.to(device)"
      ],
      "metadata": {
        "colab": {
          "base_uri": "https://localhost:8080/"
        },
        "id": "xRFTF6vFmWQj",
        "outputId": "435515ef-87e2-4df7-ddd7-6f9c91cd933a"
      },
      "id": "xRFTF6vFmWQj",
      "execution_count": 19,
      "outputs": [
        {
          "output_type": "execute_result",
          "data": {
            "text/plain": [
              "LSTM(\n",
              "  (lstm): LSTM(5, 100, batch_first=True)\n",
              "  (linear): Linear(in_features=100, out_features=5, bias=True)\n",
              ")"
            ]
          },
          "metadata": {},
          "execution_count": 19
        }
      ]
    },
    {
      "cell_type": "code",
      "source": [
        "criterion = nn.MSELoss()\n",
        "optimizer = torch.optim.Adam(lstm_model.parameters(), lr=1e-3)\n",
        "\n",
        "lstm_model, _ = train_ts_model(lstm_model, criterion, optimizer, train_batch_gen, num_epochs=100);"
      ],
      "metadata": {
        "colab": {
          "base_uri": "https://localhost:8080/",
          "height": 381
        },
        "id": "KCD82Ht4mqDi",
        "outputId": "d62e3a9e-9785-4fe1-bfe6-fbbb8059b7f4"
      },
      "id": "KCD82Ht4mqDi",
      "execution_count": 20,
      "outputs": [
        {
          "output_type": "stream",
          "name": "stdout",
          "text": [
            "Эпоха 100 из 100 выполнена за 0.018 сек.\n",
            "  лосс: \t0.015675\n"
          ]
        },
        {
          "output_type": "display_data",
          "data": {
            "text/plain": [
              "<Figure size 720x360 with 1 Axes>"
            ],
            "image/png": "[encoded data removed]"
          },
          "metadata": {
            "needs_background": "light"
          }
        }
      ]
    },
    {
      "cell_type": "markdown",
      "source": [
        "Получаем результаты на тестовых данных."
      ],
      "metadata": {
        "id": "8G3SX2AioFIG"
      },
      "id": "8G3SX2AioFIG"
    },
    {
      "cell_type": "code",
      "source": [
        "start_seq = train_data_normalized[-n_past:]\n",
        "lstm_result = evaluate_ts_model(lstm_model, start_seq, test_data_normalized)"
      ],
      "metadata": {
        "id": "F_8r0nVLn8a-"
      },
      "id": "F_8r0nVLn8a-",
      "execution_count": 21,
      "outputs": []
    },
    {
      "cell_type": "markdown",
      "source": [
        "Применяем обратное преобразование к результатам, чтобы убрать нормализацию."
      ],
      "metadata": {
        "id": "qMXnc4LloKZX"
      },
      "id": "qMXnc4LloKZX"
    },
    {
      "cell_type": "code",
      "source": [
        "lstm_result = np.array(lstm_result, ndmin=2)\n",
        "lstm_result = scaler.inverse_transform(lstm_result)"
      ],
      "metadata": {
        "id": "3-UGiOBQoH9i"
      },
      "id": "3-UGiOBQoH9i",
      "execution_count": 22,
      "outputs": []
    },
    {
      "cell_type": "markdown",
      "source": [
        "Подсчитываем ошибку предсказания концентрации PM2 и визуализируем результаты."
      ],
      "metadata": {
        "id": "_CoudkgtoRcs"
      },
      "id": "_CoudkgtoRcs"
    },
    {
      "cell_type": "code",
      "source": [
        "true_pm2 = test['pm2']\n",
        "pred_pm2 = lstm_result[:, -2]\n",
        "rmse = mean_squared_error(true_pm2, pred_pm2, squared=False)\n",
        "print('RMSE на тестовых данных для PM2 = {:.3f}'.format(rmse))"
      ],
      "metadata": {
        "colab": {
          "base_uri": "https://localhost:8080/"
        },
        "id": "twfGNnkKoMw6",
        "outputId": "4c17d412-776e-4291-8452-46b7f0430344"
      },
      "id": "twfGNnkKoMw6",
      "execution_count": 23,
      "outputs": [
        {
          "output_type": "stream",
          "name": "stdout",
          "text": [
            "RMSE на тестовых данных для PM2 = 11.769\n"
          ]
        }
      ]
    },
    {
      "cell_type": "code",
      "source": [
        "title = 'Зависимость концентрации PM2 от времени'\n",
        "label = 'pm2'\n",
        "\n",
        "plot_ts_results(pred_pm2, label, TRAIN_SPLIT, title)"
      ],
      "metadata": {
        "colab": {
          "base_uri": "https://localhost:8080/",
          "height": 526
        },
        "id": "i7GCqOzeoT9s",
        "outputId": "8737f677-6246-45e4-bfd4-8803ac6c4590"
      },
      "id": "i7GCqOzeoT9s",
      "execution_count": 24,
      "outputs": [
        {
          "output_type": "display_data",
          "data": {
            "text/plain": [
              "<Figure size 1296x576 with 1 Axes>"
            ],
            "image/png": "[encoded data removed]"
          },
          "metadata": {
            "needs_background": "light"
          }
        }
      ]
    },
    {
      "cell_type": "markdown",
      "source": [
        "Подсчитываем ошибку предсказания концентрации PM10 и визуализируем результаты."
      ],
      "metadata": {
        "id": "clociEiKopDj"
      },
      "id": "clociEiKopDj"
    },
    {
      "cell_type": "code",
      "source": [
        "true_pm10 = test['pm10']\n",
        "pred_pm10 = lstm_result[:, -1]\n",
        "rmse = mean_squared_error(true_pm10, pred_pm10, squared=False)\n",
        "print('RMSE на тестовых данных для PM10 = {:.3f}'.format(rmse))"
      ],
      "metadata": {
        "colab": {
          "base_uri": "https://localhost:8080/"
        },
        "id": "qu2_ZhMCodDA",
        "outputId": "06db2901-6591-41df-8d38-18b911ff9682"
      },
      "id": "qu2_ZhMCodDA",
      "execution_count": 25,
      "outputs": [
        {
          "output_type": "stream",
          "name": "stdout",
          "text": [
            "RMSE на тестовых данных для PM10 = 21.374\n"
          ]
        }
      ]
    },
    {
      "cell_type": "code",
      "source": [
        "title = 'Зависимость концентрации PM10 от времени'\n",
        "label = 'pm10'\n",
        "\n",
        "plot_ts_results(pred_pm10, label, TRAIN_SPLIT, title)"
      ],
      "metadata": {
        "colab": {
          "base_uri": "https://localhost:8080/",
          "height": 526
        },
        "id": "mxHTK1YWoqYg",
        "outputId": "75cb03e6-b0fa-4ca5-efab-1c79746e81a2"
      },
      "id": "mxHTK1YWoqYg",
      "execution_count": 26,
      "outputs": [
        {
          "output_type": "display_data",
          "data": {
            "text/plain": [
              "<Figure size 1296x576 with 1 Axes>"
            ],
            "image/png": "[encoded data removed]"
          },
          "metadata": {
            "needs_background": "light"
          }
        }
      ]
    }
  ],
  "metadata": {
    "kernelspec": {
      "display_name": "Python 3",
      "language": "python",
      "name": "python3"
    },
    "language_info": {
      "codemirror_mode": {
        "name": "ipython",
        "version": 3
      },
      "file_extension": ".py",
      "mimetype": "text/x-python",
      "name": "python",
      "nbconvert_exporter": "python",
      "pygments_lexer": "ipython3",
      "version": "3.7.10"
    },
    "colab": {
      "provenance": []
    },
    "accelerator": "GPU",
    "gpuClass": "standard"
  },
  "nbformat": 4,
  "nbformat_minor": 5
}